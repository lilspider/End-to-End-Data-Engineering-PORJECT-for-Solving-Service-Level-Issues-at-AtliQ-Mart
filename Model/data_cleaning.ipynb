{
 "cells": [
  {
   "cell_type": "markdown",
   "id": "e8e4ebf2",
   "metadata": {},
   "source": [
    "# Supply Chain Data Engineer Project\n",
    "\n",
    "## Overview\n",
    "This project focuses on analyzing supply chain data using Python and SQL. It involves extracting data from a SQL database, performing data cleaning, and preparing the data for analysis. Key tasks include checking for null values, summarizing quantitative data, and identifying delayed deliveries.\n",
    "\n",
    "## Project Structure\n",
    "1. **Data Connection**: Establish connection to the SQL database.\n",
    "2. **Data Extraction**: Extract relevant data for analysis.\n",
    "3. **Data Cleaning**:\n",
    "   - Check for null values.\n",
    "   - Summarize quantitative columns.\n",
    "   - Identify duplicates.\n",
    "   - Calculate delayed days and create a `not_delivered` column.\n",
    "4. **Data Analysis**: Analyze the cleaned data to derive insights.\n",
    "\n",
    "## Tools Used\n",
    "- Python (Pandas, SQLAlchemy)\n",
    "- SQL Server\n"
   ]
  },
  {
   "cell_type": "markdown",
   "id": "24dadfc4",
   "metadata": {},
   "source": [
    "## 1. Data Connection"
   ]
  },
  {
   "cell_type": "code",
   "execution_count": 2,
   "id": "aa527605",
   "metadata": {},
   "outputs": [],
   "source": [
    "# Import necessary libraries\n",
    "import pandas as pd\n",
    "import pyodbc as odbc\n"
   ]
  },
  {
   "cell_type": "code",
   "execution_count": 3,
   "id": "722aef69",
   "metadata": {},
   "outputs": [],
   "source": [
    "# Establish connection to the SQL database\n",
    "sql_conn = odbc.connect('DRIVER={ODBC Driver 17 for SQL Server};'\n",
    "                        'SERVER=DESKTOP-3B6G2FC\\MSSQLSERVER01;'\n",
    "                        'DATABASE=supply_chain_1;'\n",
    "                        'UID=Khalid;'\n",
    "                        'PWD=246248246;')"
   ]
  },
  {
   "cell_type": "markdown",
   "id": "8b972f18",
   "metadata": {},
   "source": [
    "## Load data from the SQL database into a DataFrame"
   ]
  },
  {
   "cell_type": "code",
   "execution_count": 5,
   "id": "e3e956aa",
   "metadata": {},
   "outputs": [
    {
     "name": "stderr",
     "output_type": "stream",
     "text": [
      "C:\\Users\\PC\\AppData\\Local\\Temp\\ipykernel_26344\\2050240598.py:2: UserWarning: pandas only supports SQLAlchemy connectable (engine/connection) or database string URI or sqlite3 DBAPI2 connection. Other DBAPI2 objects are not tested. Please consider using SQLAlchemy.\n",
      "  df = pd.read_sql(query, sql_conn)\n"
     ]
    },
    {
     "data": {
      "text/html": [
       "<div>\n",
       "<style scoped>\n",
       "    .dataframe tbody tr th:only-of-type {\n",
       "        vertical-align: middle;\n",
       "    }\n",
       "\n",
       "    .dataframe tbody tr th {\n",
       "        vertical-align: top;\n",
       "    }\n",
       "\n",
       "    .dataframe thead th {\n",
       "        text-align: right;\n",
       "    }\n",
       "</style>\n",
       "<table border=\"1\" class=\"dataframe\">\n",
       "  <thead>\n",
       "    <tr style=\"text-align: right;\">\n",
       "      <th></th>\n",
       "      <th>order_id</th>\n",
       "      <th>customer_id</th>\n",
       "      <th>product_id</th>\n",
       "      <th>order_qty</th>\n",
       "      <th>delivered_qty</th>\n",
       "      <th>order_placement_date</th>\n",
       "      <th>agreed_delivery_date</th>\n",
       "      <th>actual_delivery_date</th>\n",
       "    </tr>\n",
       "  </thead>\n",
       "  <tbody>\n",
       "    <tr>\n",
       "      <th>0</th>\n",
       "      <td>FAP410101302</td>\n",
       "      <td>789101</td>\n",
       "      <td>25891103</td>\n",
       "      <td>493</td>\n",
       "      <td>493</td>\n",
       "      <td>2022-04-08</td>\n",
       "      <td>2022-04-10</td>\n",
       "      <td>2022-04-10</td>\n",
       "    </tr>\n",
       "    <tr>\n",
       "      <th>1</th>\n",
       "      <td>FAP410101302</td>\n",
       "      <td>789101</td>\n",
       "      <td>25891203</td>\n",
       "      <td>374</td>\n",
       "      <td>374</td>\n",
       "      <td>2022-04-08</td>\n",
       "      <td>2022-04-10</td>\n",
       "      <td>2022-04-10</td>\n",
       "    </tr>\n",
       "    <tr>\n",
       "      <th>2</th>\n",
       "      <td>FAP410101302</td>\n",
       "      <td>789101</td>\n",
       "      <td>25891302</td>\n",
       "      <td>46</td>\n",
       "      <td>44</td>\n",
       "      <td>2022-04-08</td>\n",
       "      <td>2022-04-10</td>\n",
       "      <td>2022-04-10</td>\n",
       "    </tr>\n",
       "    <tr>\n",
       "      <th>3</th>\n",
       "      <td>FAP410101402</td>\n",
       "      <td>789101</td>\n",
       "      <td>25891101</td>\n",
       "      <td>311</td>\n",
       "      <td>311</td>\n",
       "      <td>2022-04-07</td>\n",
       "      <td>2022-04-10</td>\n",
       "      <td>2022-04-10</td>\n",
       "    </tr>\n",
       "    <tr>\n",
       "      <th>4</th>\n",
       "      <td>FAP410101402</td>\n",
       "      <td>789101</td>\n",
       "      <td>25891201</td>\n",
       "      <td>442</td>\n",
       "      <td>442</td>\n",
       "      <td>2022-04-07</td>\n",
       "      <td>2022-04-10</td>\n",
       "      <td>2022-04-10</td>\n",
       "    </tr>\n",
       "    <tr>\n",
       "      <th>...</th>\n",
       "      <td>...</td>\n",
       "      <td>...</td>\n",
       "      <td>...</td>\n",
       "      <td>...</td>\n",
       "      <td>...</td>\n",
       "      <td>...</td>\n",
       "      <td>...</td>\n",
       "      <td>...</td>\n",
       "    </tr>\n",
       "    <tr>\n",
       "      <th>57091</th>\n",
       "      <td>FMY59903502</td>\n",
       "      <td>789903</td>\n",
       "      <td>25891502</td>\n",
       "      <td>105</td>\n",
       "      <td>100</td>\n",
       "      <td>2022-05-07</td>\n",
       "      <td>2022-05-09</td>\n",
       "      <td>2022-05-09</td>\n",
       "    </tr>\n",
       "    <tr>\n",
       "      <th>57092</th>\n",
       "      <td>FMY59903503</td>\n",
       "      <td>789903</td>\n",
       "      <td>25891102</td>\n",
       "      <td>327</td>\n",
       "      <td>294</td>\n",
       "      <td>2022-05-08</td>\n",
       "      <td>2022-05-09</td>\n",
       "      <td>2022-05-09</td>\n",
       "    </tr>\n",
       "    <tr>\n",
       "      <th>57093</th>\n",
       "      <td>FMY59903503</td>\n",
       "      <td>789903</td>\n",
       "      <td>25891503</td>\n",
       "      <td>127</td>\n",
       "      <td>121</td>\n",
       "      <td>2022-05-08</td>\n",
       "      <td>2022-05-09</td>\n",
       "      <td>2022-05-09</td>\n",
       "    </tr>\n",
       "    <tr>\n",
       "      <th>57094</th>\n",
       "      <td>FMY59903601</td>\n",
       "      <td>789903</td>\n",
       "      <td>25891601</td>\n",
       "      <td>91</td>\n",
       "      <td>86</td>\n",
       "      <td>2022-05-08</td>\n",
       "      <td>2022-05-09</td>\n",
       "      <td>2022-05-12</td>\n",
       "    </tr>\n",
       "    <tr>\n",
       "      <th>57095</th>\n",
       "      <td>FMY59903603</td>\n",
       "      <td>789903</td>\n",
       "      <td>25891603</td>\n",
       "      <td>96</td>\n",
       "      <td>91</td>\n",
       "      <td>2022-05-06</td>\n",
       "      <td>2022-05-09</td>\n",
       "      <td>2022-05-10</td>\n",
       "    </tr>\n",
       "  </tbody>\n",
       "</table>\n",
       "<p>57096 rows × 8 columns</p>\n",
       "</div>"
      ],
      "text/plain": [
       "           order_id  customer_id  product_id  order_qty  delivered_qty  \\\n",
       "0      FAP410101302       789101    25891103        493            493   \n",
       "1      FAP410101302       789101    25891203        374            374   \n",
       "2      FAP410101302       789101    25891302         46             44   \n",
       "3      FAP410101402       789101    25891101        311            311   \n",
       "4      FAP410101402       789101    25891201        442            442   \n",
       "...             ...          ...         ...        ...            ...   \n",
       "57091   FMY59903502       789903    25891502        105            100   \n",
       "57092   FMY59903503       789903    25891102        327            294   \n",
       "57093   FMY59903503       789903    25891503        127            121   \n",
       "57094   FMY59903601       789903    25891601         91             86   \n",
       "57095   FMY59903603       789903    25891603         96             91   \n",
       "\n",
       "      order_placement_date agreed_delivery_date actual_delivery_date  \n",
       "0               2022-04-08           2022-04-10           2022-04-10  \n",
       "1               2022-04-08           2022-04-10           2022-04-10  \n",
       "2               2022-04-08           2022-04-10           2022-04-10  \n",
       "3               2022-04-07           2022-04-10           2022-04-10  \n",
       "4               2022-04-07           2022-04-10           2022-04-10  \n",
       "...                    ...                  ...                  ...  \n",
       "57091           2022-05-07           2022-05-09           2022-05-09  \n",
       "57092           2022-05-08           2022-05-09           2022-05-09  \n",
       "57093           2022-05-08           2022-05-09           2022-05-09  \n",
       "57094           2022-05-08           2022-05-09           2022-05-12  \n",
       "57095           2022-05-06           2022-05-09           2022-05-10  \n",
       "\n",
       "[57096 rows x 8 columns]"
      ]
     },
     "execution_count": 5,
     "metadata": {},
     "output_type": "execute_result"
    }
   ],
   "source": [
    "query = \"SELECT * FROM fact_order_lines\"\n",
    "df = pd.read_sql(query, sql_conn)\n",
    "\n",
    "df"
   ]
  },
  {
   "cell_type": "markdown",
   "id": "3a6f8515",
   "metadata": {},
   "source": [
    "## Check for null values in the DataFrame"
   ]
  },
  {
   "cell_type": "code",
   "execution_count": 11,
   "id": "a59b5230",
   "metadata": {},
   "outputs": [
    {
     "name": "stdout",
     "output_type": "stream",
     "text": [
      "Null values in each column:\n",
      "order_id                0\n",
      "customer_id             0\n",
      "product_id              0\n",
      "order_qty               0\n",
      "delivered_qty           0\n",
      "order_placement_date    0\n",
      "agreed_delivery_date    0\n",
      "actual_delivery_date    0\n",
      "dtype: int64\n"
     ]
    }
   ],
   "source": [
    "null_values = df.isnull().sum()\n",
    "print(\"Null values in each column:\")\n",
    "print(null_values)"
   ]
  },
  {
   "cell_type": "markdown",
   "id": "3a4f5494",
   "metadata": {},
   "source": [
    "##  Check for Duplicates\n"
   ]
  },
  {
   "cell_type": "code",
   "execution_count": 12,
   "id": "be48e79c",
   "metadata": {},
   "outputs": [
    {
     "name": "stdout",
     "output_type": "stream",
     "text": [
      "\n",
      "Number of duplicate rows in the dataset: 0\n",
      "\n",
      "Duplicate rows:\n",
      "Empty DataFrame\n",
      "Columns: [order_id, customer_id, product_id, order_qty, delivered_qty, order_placement_date, agreed_delivery_date, actual_delivery_date]\n",
      "Index: []\n"
     ]
    }
   ],
   "source": [
    "duplicate_rows = df.duplicated().sum()\n",
    "print(f\"\\nNumber of duplicate rows in the dataset: {duplicate_rows}\")\n",
    "\n",
    "\n",
    "print(\"\\nDuplicate rows:\")\n",
    "print(df[df.duplicated()])\n",
    "\n"
   ]
  },
  {
   "cell_type": "code",
   "execution_count": 8,
   "id": "5331f190",
   "metadata": {},
   "outputs": [
    {
     "data": {
      "text/plain": [
       "0        FAP410101302\n",
       "1        FAP410101302\n",
       "2        FAP410101302\n",
       "3        FAP410101402\n",
       "4        FAP410101402\n",
       "             ...     \n",
       "57091     FMY59903502\n",
       "57092     FMY59903503\n",
       "57093     FMY59903503\n",
       "57094     FMY59903601\n",
       "57095     FMY59903603\n",
       "Name: order_id, Length: 57096, dtype: object"
      ]
     },
     "execution_count": 8,
     "metadata": {},
     "output_type": "execute_result"
    }
   ],
   "source": []
  },
  {
   "cell_type": "markdown",
   "id": "0a076819",
   "metadata": {},
   "source": [
    "##  Add a new column for the number of delayed days\n"
   ]
  },
  {
   "cell_type": "code",
   "execution_count": 15,
   "id": "699e6d80",
   "metadata": {},
   "outputs": [],
   "source": [
    "df['order_placement_date'] = pd.to_datetime(df['order_placement_date'])\n",
    "df['agreed_delivery_date'] = pd.to_datetime(df['agreed_delivery_date'])\n",
    "df['actual_delivery_date'] = pd.to_datetime(df['actual_delivery_date'])\n",
    "\n",
    "\n",
    "df['delay_days'] = (df['actual_delivery_date'] - df['agreed_delivery_date']).dt.days\n",
    "\n",
    "\n"
   ]
  },
  {
   "cell_type": "code",
   "execution_count": 16,
   "id": "ee2b642e",
   "metadata": {},
   "outputs": [
    {
     "name": "stdout",
     "output_type": "stream",
     "text": [
      "\n",
      "Sample of the data with delay days:\n",
      "          order_id  customer_id  product_id  order_qty  delivered_qty  \\\n",
      "57091  FMY59903502       789903    25891502        105            100   \n",
      "57092  FMY59903503       789903    25891102        327            294   \n",
      "57093  FMY59903503       789903    25891503        127            121   \n",
      "57094  FMY59903601       789903    25891601         91             86   \n",
      "57095  FMY59903603       789903    25891603         96             91   \n",
      "\n",
      "      order_placement_date agreed_delivery_date actual_delivery_date  \\\n",
      "57091           2022-05-07           2022-05-09           2022-05-09   \n",
      "57092           2022-05-08           2022-05-09           2022-05-09   \n",
      "57093           2022-05-08           2022-05-09           2022-05-09   \n",
      "57094           2022-05-08           2022-05-09           2022-05-12   \n",
      "57095           2022-05-06           2022-05-09           2022-05-10   \n",
      "\n",
      "       delay_days  \n",
      "57091           0  \n",
      "57092           0  \n",
      "57093           0  \n",
      "57094           3  \n",
      "57095           1  \n"
     ]
    }
   ],
   "source": [
    "print(\"\\nSample of the data with delay days:\")\n",
    "print(df.tail())"
   ]
  },
  {
   "cell_type": "markdown",
   "id": "0d4b030c",
   "metadata": {},
   "source": [
    "## Calculate not delivered quantity by subtracting delivered_qty from order_qty\n"
   ]
  },
  {
   "cell_type": "code",
   "execution_count": 22,
   "id": "aa5f13a0",
   "metadata": {},
   "outputs": [
    {
     "name": "stdout",
     "output_type": "stream",
     "text": [
      "\n",
      "Sample of selected columns with delay days and not delivered quantity:\n",
      "       order_id  product_id  order_qty  delivered_qty  not_delivered\n",
      "0  FAP410101302    25891103        493            493              0\n",
      "1  FAP410101302    25891203        374            374              0\n",
      "2  FAP410101302    25891302         46             44              2\n",
      "3  FAP410101402    25891101        311            311              0\n",
      "4  FAP410101402    25891201        442            442              0\n"
     ]
    }
   ],
   "source": [
    "df['not_delivered'] = (df['order_qty'] - df['delivered_qty']).astype(int)\n",
    "\n",
    "\n",
    "\n",
    "# Show specific columns (order_id, customer_id, product_id, delay_days, not_delivered)\n",
    "print(\"\\nSample of selected columns with delay days and not delivered quantity:\")\n",
    "print(df[['order_id','product_id', 'order_qty', 'delivered_qty', 'not_delivered']].head())"
   ]
  },
  {
   "cell_type": "code",
   "execution_count": 23,
   "id": "18224db3",
   "metadata": {},
   "outputs": [
    {
     "name": "stdout",
     "output_type": "stream",
     "text": [
      "\n",
      "Statistical summary of not delivered quantities:\n",
      "count    57096.000000\n",
      "mean         8.017707\n",
      "std         16.484549\n",
      "min          0.000000\n",
      "25%          0.000000\n",
      "50%          0.000000\n",
      "75%          9.000000\n",
      "max        100.000000\n",
      "Name: not_delivered, dtype: float64\n"
     ]
    }
   ],
   "source": [
    "# Describe the 'not_delivered' column to get statistical summary\n",
    "not_delivered_summary = df['not_delivered'].describe()\n",
    "\n",
    "\n",
    "# Print the summary\n",
    "print(\"\\nStatistical summary of not delivered quantities:\")\n",
    "print(not_delivered_summary)"
   ]
  },
  {
   "cell_type": "code",
   "execution_count": null,
   "id": "97933347",
   "metadata": {},
   "outputs": [],
   "source": []
  }
 ],
 "metadata": {
  "kernelspec": {
   "display_name": "Python 3 (ipykernel)",
   "language": "python",
   "name": "python3"
  },
  "language_info": {
   "codemirror_mode": {
    "name": "ipython",
    "version": 3
   },
   "file_extension": ".py",
   "mimetype": "text/x-python",
   "name": "python",
   "nbconvert_exporter": "python",
   "pygments_lexer": "ipython3",
   "version": "3.11.5"
  }
 },
 "nbformat": 4,
 "nbformat_minor": 5
}
